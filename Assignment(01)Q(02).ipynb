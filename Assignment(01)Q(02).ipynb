{
 "cells": [
  {
   "cell_type": "markdown",
   "id": "b3e8e3cf",
   "metadata": {},
   "source": [
    "##  Q.2 Write a Python program that accepts a word from the user and reverse it"
   ]
  },
  {
   "cell_type": "code",
   "execution_count": 1,
   "id": "6789c69f",
   "metadata": {},
   "outputs": [
    {
     "name": "stdout",
     "output_type": "stream",
     "text": [
      "adoydE"
     ]
    }
   ],
   "source": [
    "university = 'Edyoda'\n",
    "\n",
    "for ed in range(len(university) -1, -1, -1):\n",
    "    print(university[ed] , end = \"\")"
   ]
  },
  {
   "cell_type": "code",
   "execution_count": null,
   "id": "d6ab265c",
   "metadata": {},
   "outputs": [],
   "source": []
  }
 ],
 "metadata": {
  "kernelspec": {
   "display_name": "Python 3 (ipykernel)",
   "language": "python",
   "name": "python3"
  },
  "language_info": {
   "codemirror_mode": {
    "name": "ipython",
    "version": 3
   },
   "file_extension": ".py",
   "mimetype": "text/x-python",
   "name": "python",
   "nbconvert_exporter": "python",
   "pygments_lexer": "ipython3",
   "version": "3.10.1"
  }
 },
 "nbformat": 4,
 "nbformat_minor": 5
}
